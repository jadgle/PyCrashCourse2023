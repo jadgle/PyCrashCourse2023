{
  "nbformat": 4,
  "nbformat_minor": 0,
  "metadata": {
    "colab": {
      "provenance": []
    },
    "kernelspec": {
      "name": "python3",
      "display_name": "Python 3"
    },
    "language_info": {
      "name": "python"
    }
  },
  "cells": [
    {
      "cell_type": "markdown",
      "source": [
        "# Python Crash Course - Episode 2\n",
        "\n",
        "Preliminaries: importing modules.\n",
        "\n",
        "In Python, you use the `import` keyword to make code in one module available in another. You may want to import your own code, for example a library of functions you want to access (without re-defining everything), or a class (an object-contructor script). This is really helpful for organizing your code.\n",
        "\n",
        "You can also import modules and packages available online (after download and installation).\n",
        "Each module/package has online documentation explaining the usage of each function/class.\n",
        " Here some examples:\n",
        "\n",
        "\n",
        "*   [math module](https://docs.python.org/3/library/math.html)\n",
        "*   [numpy module](https://numpy.org/doc/stable/index.html)\n"
      ],
      "metadata": {
        "id": "L6TNjPZKPgCN"
      }
    },
    {
      "cell_type": "code",
      "source": [
        "# This module provides access to the mathematical functions defined by the C standard.\n",
        "\n"
      ],
      "metadata": {
        "id": "wWWKQuOWxzXN"
      },
      "execution_count": null,
      "outputs": []
    },
    {
      "cell_type": "code",
      "source": [
        "# you can also give the module you import a nickname\n"
      ],
      "metadata": {
        "id": "MRepKvmSyxFj"
      },
      "execution_count": null,
      "outputs": []
    },
    {
      "cell_type": "code",
      "source": [
        "# if you know you are going to use specific constants/functions from a module, you can decide to import those and nothing else\n"
      ],
      "metadata": {
        "id": "SwV2cg5rzBY7"
      },
      "execution_count": null,
      "outputs": []
    },
    {
      "cell_type": "markdown",
      "source": [
        "Preliminaries: matrices as lists of lists.\n",
        "\n",
        "Write a function, `symmetryCheck`, that takes as input a matrix, expressed as a list of lists, and determines whether or not the matrix is symmetric. The function should return the strings `not symmetric` or `symmetric`. You may not use any obvious builtin function."
      ],
      "metadata": {
        "id": "5YT2x0rMzYZq"
      }
    },
    {
      "cell_type": "code",
      "source": [
        "# hints on accessing elements\n",
        "l1 = [i for i in range(5)]\n",
        "l2 = [2*i for i in range(3)]\n",
        "\n",
        "lols = [l1,l2]\n",
        "\n",
        "print(lols)\n",
        "#lols[][]\n"
      ],
      "metadata": {
        "id": "IOXRVErF3diD"
      },
      "execution_count": null,
      "outputs": []
    },
    {
      "cell_type": "code",
      "source": [
        "def symmetryCheck(A):\n",
        "    # your code here\n"
      ],
      "metadata": {
        "id": "VOJE1gZnz8Qa"
      },
      "execution_count": null,
      "outputs": []
    },
    {
      "cell_type": "code",
      "source": [
        "# test case 1\n",
        "A = [[1, 2, 3], [2, 1, 3]]\n",
        "assert(symmetryCheck(A) == 'not symmetric')\n",
        "print('Test case passed!!!')"
      ],
      "metadata": {
        "id": "GaOsuO1f0HSz"
      },
      "execution_count": null,
      "outputs": []
    },
    {
      "cell_type": "code",
      "source": [
        "# test case 2\n",
        "A = [[1, 2, 3], [2, 1, 3], [2, 1, 3]]\n",
        "assert(symmetryCheck(A) == 'not symmetric')\n",
        "print('Test case passed!!!')"
      ],
      "metadata": {
        "id": "QrjfWXaF0Kqq"
      },
      "execution_count": null,
      "outputs": []
    },
    {
      "cell_type": "code",
      "source": [
        "# test case 3\n",
        "A = [[1, 2, 3], [2, 1, 3], [3, 3, 3]]\n",
        "assert(symmetryCheck(A) == 'symmetric')\n",
        "print('Test case passed!!!')"
      ],
      "metadata": {
        "id": "9Pu-LPpS0KfL"
      },
      "execution_count": null,
      "outputs": []
    },
    {
      "cell_type": "markdown",
      "source": [
        "## NumPy - the fundamental package for scientific computing in Python\n",
        "\n",
        "It is a Python library that provides a multidimensional array object, various derived objects (such as matrices), and an assortment of routines for fast operations on arrays, including mathematical, logical, shape manipulation, sorting, selecting, discrete Fourier transforms, basic linear algebra, basic statistical operations, random simulation and much more.\n",
        "\n",
        "[ref. [Numpy documentation](https://numpy.org/doc/stable/index.html)]"
      ],
      "metadata": {
        "id": "Oj30SO6i4b7q"
      }
    },
    {
      "cell_type": "code",
      "source": [
        "import numpy as np"
      ],
      "metadata": {
        "id": "BCzJp5414RnR"
      },
      "execution_count": null,
      "outputs": []
    },
    {
      "cell_type": "markdown",
      "source": [
        "The object around which the package is built is the `np.array`, a data structure that differs from lists by the following\n",
        "* While a Python list can contain different data types within a single list, all of the elements in a NumPy array should be homogeneous.\n",
        "* NumPy arrays are faster and more compact than Python lists. An array consumes less memory and is convenient to use.\n",
        "* The indexing and element access is similar to the one in Matlab."
      ],
      "metadata": {
        "id": "41QF4OKC5BYQ"
      }
    },
    {
      "cell_type": "markdown",
      "source": [
        "An array is a grid of values and it contains information about the raw data, how to locate an element, and how to interpret an element. Key attributes:\n",
        "\n",
        "* The elements are all of the same type, referred to as the array dtype.\n",
        "* The rank of the array is the number of dimensions `ndim`.\n",
        "* The shape of the array is a tuple of integers giving the size of the array along each dimension."
      ],
      "metadata": {
        "id": "dPwtbRXH6fZ1"
      }
    },
    {
      "cell_type": "code",
      "source": [
        "b = np.array([1.,2,3])\n",
        "\n",
        "print(b)\n",
        "print()\n",
        "print([\"type:  \", b.dtype])\n",
        "print([\"rank:  \", b.ndim])\n",
        "print([\"shape: \", b.shape])"
      ],
      "metadata": {
        "id": "MEw1LbrH6eed"
      },
      "execution_count": null,
      "outputs": []
    },
    {
      "cell_type": "code",
      "source": [
        "A = np.array(A)\n",
        "print(A)\n",
        "print()\n",
        "print([\"type:  \", A.dtype])\n",
        "print([\"rank:  \", A.ndim])\n",
        "print([\"shape: \", A.shape])"
      ],
      "metadata": {
        "id": "8j4DdDEf_u8o"
      },
      "execution_count": null,
      "outputs": []
    },
    {
      "cell_type": "markdown",
      "source": [
        "Besides creating an array from a sequence of elements, you can easily create an array filled with 0’s or 1's. Or filled with a range of elements or even linearly spaces numbers in an interval."
      ],
      "metadata": {
        "id": "ToHu5dQm_R1I"
      }
    },
    {
      "cell_type": "code",
      "source": [
        "np.zeros()"
      ],
      "metadata": {
        "id": "_sRwEsEw_Kl4"
      },
      "execution_count": null,
      "outputs": []
    },
    {
      "cell_type": "code",
      "source": [
        "np.ones()"
      ],
      "metadata": {
        "id": "mN-h0o1gAknd"
      },
      "execution_count": null,
      "outputs": []
    },
    {
      "cell_type": "code",
      "source": [
        "# the arange function\n",
        "a = -3 # start\n",
        "b = 10 # stop\n",
        "c = 2 # step\n"
      ],
      "metadata": {
        "id": "z2pB1ZJpA_3m"
      },
      "execution_count": null,
      "outputs": []
    },
    {
      "cell_type": "code",
      "source": [
        "# the linspace function\n",
        "a = -3 # start\n",
        "b = 10 # stop\n",
        "c = 5 # number of elements\n"
      ],
      "metadata": {
        "id": "sEUC55dzBdoN"
      },
      "execution_count": null,
      "outputs": []
    },
    {
      "cell_type": "markdown",
      "source": [
        "Indexing and slicing of NumPy arrays:"
      ],
      "metadata": {
        "id": "6LjiFrASAvVR"
      }
    },
    {
      "cell_type": "code",
      "source": [
        "A = np.random.randint(-10,10,(5,3)) # low, high, shape\n",
        "print(A)\n",
        "#A[:,1:3]"
      ],
      "metadata": {
        "id": "kbjNHAuoCYL7"
      },
      "execution_count": null,
      "outputs": []
    },
    {
      "cell_type": "markdown",
      "source": [
        "Exercise: rewrite the function SymmetryCheck code using arrays instead of lists."
      ],
      "metadata": {
        "id": "IFTX3FulDz26"
      }
    },
    {
      "cell_type": "code",
      "source": [
        "def symmetryCheck_arrays(A):\n",
        "    # your code here\n"
      ],
      "metadata": {
        "id": "vqBK8hjqEEkM"
      },
      "execution_count": null,
      "outputs": []
    },
    {
      "cell_type": "code",
      "source": [
        "# test cases\n",
        "b = np.random.randint(-100, 100, size = (10, 10))\n",
        "test = (b + b.T)\n",
        "test1 = (symmetryCheck_arrays(test) == 'symmetric')\n",
        "b = np.random.randint(-100, 100, size = (10, 10))\n",
        "test2 = (symmetryCheck_arrays(b) == 'not symmetric')\n",
        "\n",
        "if test1 and test2:\n",
        "  print('Test cases passed!!!')\n",
        "else:\n",
        "  print('Oh no :(')"
      ],
      "metadata": {
        "id": "LLtJ9Z_iEUYs"
      },
      "execution_count": null,
      "outputs": []
    },
    {
      "cell_type": "markdown",
      "source": [
        "One of the disclaimers with which we started talking about Numpy arrays was an efficiency boost, let's check!"
      ],
      "metadata": {
        "id": "iJSfCKTQFHro"
      }
    },
    {
      "cell_type": "code",
      "source": [
        "import time\n",
        "# using lists\n",
        "b = np.random.randint(-100, 100, size = (1000, 1000))\n",
        "b1 = (b + b.T).tolist()\n",
        "b2 = np.random.randint(-100, 100, size = (1000, 1000)).tolist()\n",
        "\n",
        "start_time = time.time()\n",
        "\n",
        "test1 = (symmetryCheck(b1) == 'symmetric')\n",
        "test2 = (symmetryCheck(b2) == 'not symmetric')\n",
        "\n",
        "end_time_lists = time.time() - start_time\n",
        "\n",
        "\n",
        "# using arrays\n",
        "b = np.random.randint(-100, 100, size = (10, 10))\n",
        "b1 = (b + b.T)\n",
        "b2 = np.random.randint(-100, 100, size = (10, 10))\n",
        "\n",
        "start_time = time.time()\n",
        "test1 = (symmetryCheck_arrays(b1) == 'symmetric')\n",
        "test2 = (symmetryCheck_arrays(b2) == 'not symmetric')\n",
        "\n",
        "end_time_arrays = time.time() - start_time\n",
        "\n",
        "print(\"The execution time for symmetryCheck is \", end_time_lists)\n",
        "print(\"The execution time for symmetryCheck_arrays is \", end_time_arrays)"
      ],
      "metadata": {
        "id": "i-DnauZjFTtw"
      },
      "execution_count": null,
      "outputs": []
    },
    {
      "cell_type": "markdown",
      "source": [
        "## Some other useful functions\n",
        "\n",
        "1.   Using `np.array.reshape()` will give a new shape to an array without changing the data. Just remember that when you use the reshape method, the array you want to produce needs to have the same number of elements as the original array (use the attribute `size` to check!).\n",
        "2.   You can add, and sort elements of an array by using the functions `np.concatenate((a,b),axis=0)` and `np.sort(a)`\n",
        "\n"
      ],
      "metadata": {
        "id": "Af1O8CnaHCqq"
      }
    },
    {
      "cell_type": "code",
      "source": [],
      "metadata": {
        "id": "KiVCmpRvIWAK"
      },
      "execution_count": null,
      "outputs": []
    },
    {
      "cell_type": "markdown",
      "source": [
        "## Exercises\n",
        "\n",
        "1. Looking at the official Numpy documentation, write a function `my_linear_solver` for computing the solution of linear systems $Ax=b$ as $x=A^{-1}b$.\n",
        "2. Confront the solution with `np.linalg.solve()`. Which method is faster?\n"
      ],
      "metadata": {
        "id": "vbAsI--ANHCv"
      }
    },
    {
      "cell_type": "code",
      "source": [
        "def my_linear_solver(A,b):\n",
        "  # your code here\n"
      ],
      "metadata": {
        "id": "1xkLkWK7QnKU"
      },
      "execution_count": null,
      "outputs": []
    },
    {
      "cell_type": "code",
      "source": [
        "A = np.random.randint(-10,10,(1000,1000))\n",
        "b = np.random.randint(-10,10,(1000,1))\n",
        "\n",
        "#your code here\n",
        "\n",
        "my_time =\n",
        "linalg_time =\n",
        "\n",
        "print(\"The execution time for my code is \", my_time)\n",
        "print(\"The execution time for np.linalg.solve() \", linalg_time)\n"
      ],
      "metadata": {
        "id": "ijB1vujQRC_D"
      },
      "execution_count": null,
      "outputs": []
    },
    {
      "cell_type": "markdown",
      "source": [
        "3. write a function Newton_system that takes the input defined below and returns the solution of a non-linear system of equations.\n",
        "\n",
        "4. test the function on the following system\n",
        "$$\\begin{cases}\n",
        "x+y+z=3\\\\\n",
        "x^2 + y^2 + z^2 = 5\\\\\n",
        "e^x + xy+xz = 1\n",
        "\\end{cases}\n",
        "$$\n",
        "and starting from the initial guess $[cos(2),14,3]$. The solution should be close to $[0,2,1]$."
      ],
      "metadata": {
        "id": "d0x0KoC1Se8h"
      }
    },
    {
      "cell_type": "code",
      "source": [
        "def Newton_system(F, J, x, tol, max_iteration):\n",
        "    # your code here"
      ],
      "metadata": {
        "id": "NR41Z-6SSu97"
      },
      "execution_count": null,
      "outputs": []
    },
    {
      "cell_type": "code",
      "source": [
        "def F(s):\n",
        "  # your code here\n",
        "\n",
        "  return\n",
        "\n",
        "def J(s):\n",
        "  # your code here\n",
        "\n",
        "  return"
      ],
      "metadata": {
        "id": "VsLWVAfiA7Px"
      },
      "execution_count": null,
      "outputs": []
    },
    {
      "cell_type": "code",
      "source": [
        "x0 = np.array([m.cos(2),14,3])\n",
        "Newton_system(F, J, x0, 1e-5, 1e3)"
      ],
      "metadata": {
        "id": "ae7ROkEXB3lt"
      },
      "execution_count": null,
      "outputs": []
    },
    {
      "cell_type": "markdown",
      "source": [
        "## Matplotlib - plotting the results\n",
        "For the official documentation visit the [Matplotlib website](https://matplotlib.org/stable/).\n",
        "\n",
        "Matplotlib graphs your data on Figures, each of which can contain one or more Axes, an area where points can be specified in terms of their coordinates. The simplest way of creating a Figure with an Axes is using `pyplot.subplots`.\n"
      ],
      "metadata": {
        "id": "z2C75nfjIuK_"
      }
    },
    {
      "cell_type": "code",
      "source": [
        "import matplotlib.pyplot as plt\n",
        "\n",
        "fig, ax = plt.subplots()  # Create a figure containing a single axes.\n",
        "\n",
        "x = np.linspace(-10,10,100) # x coordinates\n",
        "y = np.sin(x)  # y coordinates\n",
        "ax.plot(x, y)  # Plot some data on the axes."
      ],
      "metadata": {
        "id": "ILVVB8mcQ-c7"
      },
      "execution_count": null,
      "outputs": []
    },
    {
      "cell_type": "markdown",
      "source": [
        "An Axes is an object attached to a Figure that contains a region for plotting data, and usually includes two (or three in the case of 3D) Axis objects that provide ticks and tick labels to provide scales for the data in the Axes.\n",
        "\n",
        "Each Axes also has a title (set via `set_title()`), an x-label (set via `set_xlabel()`), and a y-label set via `set_ylabel()`). We usually plot on Axes (as done in the previous example).\n",
        "\n"
      ],
      "metadata": {
        "id": "u4aFum-jVW8V"
      }
    },
    {
      "cell_type": "code",
      "source": [
        "fig2, ax = plt.subplots()       # a figure with a single Axes\n"
      ],
      "metadata": {
        "id": "27ADhK90SW_e"
      },
      "execution_count": null,
      "outputs": []
    },
    {
      "cell_type": "code",
      "source": [
        "fig3, axs = plt.subplots(1, 4, figsize=(12, 3))  # a figure with a 2x2 grid of Axes\n"
      ],
      "metadata": {
        "id": "00Stl_MzX9hU"
      },
      "execution_count": null,
      "outputs": []
    },
    {
      "cell_type": "code",
      "source": [
        "# we can also plot multiple times over the same Axes\n",
        "fig3, ax = plt.subplots()  # a figure with a 2x2 grid of Axes\n"
      ],
      "metadata": {
        "id": "6MHB1M3HZjaC"
      },
      "execution_count": null,
      "outputs": []
    },
    {
      "cell_type": "markdown",
      "source": [
        "## Exercise\n",
        "\n",
        "1. Implement Forward Euler method for the equation\n",
        "$$y' - y = -\\dfrac{1}{2} e^{t/2}sin(5t)+5e^{t/2}cos(5t),\\qquad y(0)=0$$\n",
        "and plot the evolution of the $y$ in the time interval $[0,1]$ with time step $dt=0.01$.\n",
        "2. Compare the approximation with the analytic solution\n",
        "$$y(t) = e^{t/2}sin(5t)$$"
      ],
      "metadata": {
        "id": "iK9GhW8Yb7_-"
      }
    },
    {
      "cell_type": "code",
      "source": [
        "def forward_Euler(f,y0,t0,tf,dt):\n",
        "  # your code here\n",
        "  return"
      ],
      "metadata": {
        "id": "8DKiIHfzdSWy"
      },
      "execution_count": null,
      "outputs": []
    },
    {
      "cell_type": "code",
      "source": [
        "# your code here\n",
        "f =\n",
        "y0 =\n",
        "t0,tf,dt =\n",
        "evolution = forward_Euler(f,y0,t0,tf,dt)\n",
        "\n"
      ],
      "metadata": {
        "id": "_XBt4uIGd_Ey"
      },
      "execution_count": null,
      "outputs": []
    },
    {
      "cell_type": "markdown",
      "source": [
        "## Open exercise\n",
        "\n",
        "Implement the Backward Euler method for the equation in the previous exercise, keeping the same time step. Use the Newton method implemented before to solve the implicit step. Plot the approximation vs. the analytic solution."
      ],
      "metadata": {
        "id": "H4cahS2NiGhh"
      }
    },
    {
      "cell_type": "code",
      "source": [],
      "metadata": {
        "id": "tNnugNkyiF9m"
      },
      "execution_count": null,
      "outputs": []
    }
  ]
}
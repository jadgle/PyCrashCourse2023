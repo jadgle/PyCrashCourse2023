{
  "nbformat": 4,
  "nbformat_minor": 0,
  "metadata": {
    "colab": {
      "provenance": []
    },
    "kernelspec": {
      "name": "python3",
      "display_name": "Python 3"
    },
    "language_info": {
      "name": "python"
    }
  },
  "cells": [
    {
      "cell_type": "markdown",
      "source": [
        "# Python Crash Course - Episode 2\n",
        "\n",
        "Preliminaries: importing modules.\n",
        "\n",
        "In Python, you use the `import` keyword to make code in one module available in another. You may want to import your own code, for example a library of functions you want to access (without re-defining everything), or a class (an object-contructor script). This is really helpful for organizing your code.\n",
        "\n",
        "You can also import modules and packages available online (after download and installation).\n",
        "Each module/package has online documentation explaining the usage of each function/class.\n",
        " Here some examples:\n",
        "\n",
        "\n",
        "*   [math module](https://docs.python.org/3/library/math.html)\n",
        "*   [numpy module](https://numpy.org/doc/stable/index.html)\n"
      ],
      "metadata": {
        "id": "L6TNjPZKPgCN"
      }
    },
    {
      "cell_type": "code",
      "source": [
        "import math # This module provides access to the mathematical functions defined by the C standard.\n",
        "\n",
        "p = math.pi\n",
        "math.sin(0.5*p)\n"
      ],
      "metadata": {
        "colab": {
          "base_uri": "https://localhost:8080/"
        },
        "id": "wWWKQuOWxzXN",
        "outputId": "b08bcf93-15ba-4854-f874-12ba28523fd7"
      },
      "execution_count": 4,
      "outputs": [
        {
          "output_type": "execute_result",
          "data": {
            "text/plain": [
              "1.0"
            ]
          },
          "metadata": {},
          "execution_count": 4
        }
      ]
    },
    {
      "cell_type": "code",
      "source": [
        "# you can also give the module you import a nickname\n",
        "import math as m\n",
        "\n",
        "e = m.e\n",
        "m.log(e)"
      ],
      "metadata": {
        "colab": {
          "base_uri": "https://localhost:8080/"
        },
        "id": "MRepKvmSyxFj",
        "outputId": "ebe51150-aec6-4cb1-cbd8-1cb9b6104879"
      },
      "execution_count": 5,
      "outputs": [
        {
          "output_type": "execute_result",
          "data": {
            "text/plain": [
              "1.0"
            ]
          },
          "metadata": {},
          "execution_count": 5
        }
      ]
    },
    {
      "cell_type": "code",
      "source": [
        "# if you know you are going to use specific constants/functions from a module, you can decide to import those and nothing else\n",
        "from math import pi,sin\n",
        "\n",
        "sin(0.5*pi)\n"
      ],
      "metadata": {
        "colab": {
          "base_uri": "https://localhost:8080/"
        },
        "id": "SwV2cg5rzBY7",
        "outputId": "9c26a955-9fe2-4ce6-c485-6d28f05dd25d"
      },
      "execution_count": 7,
      "outputs": [
        {
          "output_type": "execute_result",
          "data": {
            "text/plain": [
              "1.0"
            ]
          },
          "metadata": {},
          "execution_count": 7
        }
      ]
    },
    {
      "cell_type": "markdown",
      "source": [
        "Preliminaries: matrices as lists of lists.\n",
        "\n",
        "Write a function, `symmetryCheck`, that takes as input a matrix, expressed as a list of lists, and determines whether or not the matrix is symmetric. The function should return the strings `not symmetric` or `symmetric`. You may not use any obvious builtin function."
      ],
      "metadata": {
        "id": "5YT2x0rMzYZq"
      }
    },
    {
      "cell_type": "code",
      "source": [
        "# hints on accessing elements\n",
        "l1 = [i for i in range(5)]\n",
        "l2 = [2*i for i in range(3)]\n",
        "\n",
        "lols = [l1,l2]\n",
        "\n",
        "#print(lols)\n",
        "lols[1][0:2]\n",
        "#lols[:][1]"
      ],
      "metadata": {
        "colab": {
          "base_uri": "https://localhost:8080/"
        },
        "id": "IOXRVErF3diD",
        "outputId": "1c2e223e-bf8b-47dc-deb9-633657f19211"
      },
      "execution_count": 60,
      "outputs": [
        {
          "output_type": "execute_result",
          "data": {
            "text/plain": [
              "[0, 2]"
            ]
          },
          "metadata": {},
          "execution_count": 60
        }
      ]
    },
    {
      "cell_type": "code",
      "source": [
        "def symmetryCheck(A):\n",
        "    # your code here\n",
        "    c = len(A)\n",
        "    r = len(A[0])\n",
        "    if r != c:\n",
        "        return 'not symmetric'\n",
        "    for row in range(r):\n",
        "      column = [A[col][row] for col in range(c)]\n",
        "      if (A[row][:] != column):\n",
        "        return 'not symmetric'\n",
        "    return 'symmetric'"
      ],
      "metadata": {
        "id": "VOJE1gZnz8Qa"
      },
      "execution_count": 119,
      "outputs": []
    },
    {
      "cell_type": "code",
      "source": [
        "# test case 1\n",
        "A = [[1, 2, 3], [2, 1, 3]]\n",
        "assert(symmetryCheck(A) == 'not symmetric')\n",
        "print('Test case passed!!!')"
      ],
      "metadata": {
        "colab": {
          "base_uri": "https://localhost:8080/"
        },
        "id": "GaOsuO1f0HSz",
        "outputId": "4c28ba4f-2988-4c9f-8068-26cc4e36a413"
      },
      "execution_count": 67,
      "outputs": [
        {
          "output_type": "stream",
          "name": "stdout",
          "text": [
            "Test case passed!!!\n"
          ]
        }
      ]
    },
    {
      "cell_type": "code",
      "source": [
        "# test case 2\n",
        "A = [[1, 2, 3], [2, 1, 3], [2, 1, 3]]\n",
        "assert(symmetryCheck(A) == 'not symmetric')\n",
        "print('Test case passed!!!')"
      ],
      "metadata": {
        "colab": {
          "base_uri": "https://localhost:8080/"
        },
        "id": "QrjfWXaF0Kqq",
        "outputId": "f1c978d8-73f7-4020-95cd-aa2fe2ce65c7"
      },
      "execution_count": 45,
      "outputs": [
        {
          "output_type": "stream",
          "name": "stdout",
          "text": [
            "Test case passed!!!\n"
          ]
        }
      ]
    },
    {
      "cell_type": "code",
      "source": [
        "# test case 3\n",
        "A = [[1, 2, 3], [2, 1, 3], [3, 3, 3]]\n",
        "assert(symmetryCheck(A) == 'symmetric')\n",
        "print('Test case passed!!!')"
      ],
      "metadata": {
        "colab": {
          "base_uri": "https://localhost:8080/"
        },
        "id": "9Pu-LPpS0KfL",
        "outputId": "ee101fb4-8cd1-4413-936a-b4ff4401eec2"
      },
      "execution_count": 46,
      "outputs": [
        {
          "output_type": "stream",
          "name": "stdout",
          "text": [
            "Test case passed!!!\n"
          ]
        }
      ]
    },
    {
      "cell_type": "markdown",
      "source": [
        "## NumPy - the fundamental package for scientific computing in Python\n",
        "\n",
        "It is a Python library that provides a multidimensional array object, various derived objects (such as matrices), and an assortment of routines for fast operations on arrays, including mathematical, logical, shape manipulation, sorting, selecting, discrete Fourier transforms, basic linear algebra, basic statistical operations, random simulation and much more.\n",
        "\n",
        "[ref. [Numpy documentation](https://numpy.org/doc/stable/index.html)]"
      ],
      "metadata": {
        "id": "Oj30SO6i4b7q"
      }
    },
    {
      "cell_type": "code",
      "source": [
        "import numpy as np"
      ],
      "metadata": {
        "id": "BCzJp5414RnR"
      },
      "execution_count": 61,
      "outputs": []
    },
    {
      "cell_type": "markdown",
      "source": [
        "The object around which the package is built is the `np.array`, a data structure that differs from lists by the following\n",
        "* While a Python list can contain different data types within a single list, all of the elements in a NumPy array should be homogeneous.\n",
        "* NumPy arrays are faster and more compact than Python lists. An array consumes less memory and is convenient to use.\n",
        "* The indexing and element access is similar to the one in Matlab."
      ],
      "metadata": {
        "id": "41QF4OKC5BYQ"
      }
    },
    {
      "cell_type": "markdown",
      "source": [
        "An array is a grid of values and it contains information about the raw data, how to locate an element, and how to interpret an element. Key attributes:\n",
        "\n",
        "* The elements are all of the same type, referred to as the array dtype.\n",
        "* The rank of the array is the number of dimensions `ndim`.\n",
        "* The shape of the array is a tuple of integers giving the size of the array along each dimension."
      ],
      "metadata": {
        "id": "dPwtbRXH6fZ1"
      }
    },
    {
      "cell_type": "code",
      "source": [
        "b = np.array([1.,2,3])\n",
        "print(b)\n",
        "print()\n",
        "print([\"type:  \", b.dtype])\n",
        "print([\"rank:  \", b.ndim])\n",
        "print([\"shape: \", b.shape])"
      ],
      "metadata": {
        "colab": {
          "base_uri": "https://localhost:8080/"
        },
        "id": "MEw1LbrH6eed",
        "outputId": "eaf6caf6-5629-4a51-bdd0-2c1691e39018"
      },
      "execution_count": 85,
      "outputs": [
        {
          "output_type": "stream",
          "name": "stdout",
          "text": [
            "[1. 2. 3.]\n",
            "\n",
            "['type:  ', dtype('float64')]\n",
            "['rank:  ', 1]\n",
            "['shape: ', (3,)]\n"
          ]
        }
      ]
    },
    {
      "cell_type": "code",
      "source": [
        "A = np.array(A)\n",
        "print(A)\n",
        "print()\n",
        "print([\"type:  \", A.dtype])\n",
        "print([\"rank:  \", A.ndim])\n",
        "print([\"shape: \", A.shape])"
      ],
      "metadata": {
        "colab": {
          "base_uri": "https://localhost:8080/"
        },
        "id": "8j4DdDEf_u8o",
        "outputId": "dd26a6b0-e636-42d4-b479-bb0ede9c8a07"
      },
      "execution_count": 84,
      "outputs": [
        {
          "output_type": "stream",
          "name": "stdout",
          "text": [
            "[[1 2 3]\n",
            " [2 1 3]]\n",
            "\n",
            "['type:  ', dtype('int64')]\n",
            "['rank:  ', 2]\n",
            "['shape: ', (2, 3)]\n"
          ]
        }
      ]
    },
    {
      "cell_type": "markdown",
      "source": [
        "Besides creating an array from a sequence of elements, you can easily create an array filled with 0’s or 1's. Or filled with a range of elements or even linearly spaces numbers in an interval."
      ],
      "metadata": {
        "id": "ToHu5dQm_R1I"
      }
    },
    {
      "cell_type": "code",
      "source": [
        "np.zeros(shape=(4,4),dtype = int)"
      ],
      "metadata": {
        "colab": {
          "base_uri": "https://localhost:8080/"
        },
        "id": "_sRwEsEw_Kl4",
        "outputId": "caa73327-c287-48e0-9631-b19266d01fa6"
      },
      "execution_count": 90,
      "outputs": [
        {
          "output_type": "execute_result",
          "data": {
            "text/plain": [
              "array([[0, 0, 0, 0],\n",
              "       [0, 0, 0, 0],\n",
              "       [0, 0, 0, 0],\n",
              "       [0, 0, 0, 0]])"
            ]
          },
          "metadata": {},
          "execution_count": 90
        }
      ]
    },
    {
      "cell_type": "code",
      "source": [
        "np.ones(shape=(5,1),dtype = float)"
      ],
      "metadata": {
        "colab": {
          "base_uri": "https://localhost:8080/"
        },
        "id": "mN-h0o1gAknd",
        "outputId": "2284cf96-8f69-4470-d15b-0e091e930751"
      },
      "execution_count": 93,
      "outputs": [
        {
          "output_type": "execute_result",
          "data": {
            "text/plain": [
              "array([[1.],\n",
              "       [1.],\n",
              "       [1.],\n",
              "       [1.],\n",
              "       [1.]])"
            ]
          },
          "metadata": {},
          "execution_count": 93
        }
      ]
    },
    {
      "cell_type": "code",
      "source": [
        "a = -3 # start\n",
        "b = 10 # stop\n",
        "c = 2 # step\n",
        "np.arange(a,b,c)"
      ],
      "metadata": {
        "colab": {
          "base_uri": "https://localhost:8080/"
        },
        "id": "z2pB1ZJpA_3m",
        "outputId": "9dee55a7-81c2-4a72-e8a2-0489fcc24435"
      },
      "execution_count": 97,
      "outputs": [
        {
          "output_type": "execute_result",
          "data": {
            "text/plain": [
              "array([-3, -1,  1,  3,  5,  7,  9])"
            ]
          },
          "metadata": {},
          "execution_count": 97
        }
      ]
    },
    {
      "cell_type": "code",
      "source": [
        "a = -3 # start\n",
        "b = 10 # stop\n",
        "c = 5 # number of elements\n",
        "np.linspace(a,b,c)\n"
      ],
      "metadata": {
        "colab": {
          "base_uri": "https://localhost:8080/"
        },
        "id": "sEUC55dzBdoN",
        "outputId": "a479be53-dbe0-42b6-b2d2-01a26c49f0c3"
      },
      "execution_count": 99,
      "outputs": [
        {
          "output_type": "execute_result",
          "data": {
            "text/plain": [
              "array([-3.  ,  0.25,  3.5 ,  6.75, 10.  ])"
            ]
          },
          "metadata": {},
          "execution_count": 99
        }
      ]
    },
    {
      "cell_type": "markdown",
      "source": [
        "Indexing and slicing of NumPy arrays:"
      ],
      "metadata": {
        "id": "6LjiFrASAvVR"
      }
    },
    {
      "cell_type": "code",
      "source": [
        "A = np.random.randint(-10,10,(5,3)) # low, high, shape\n",
        "print(A)\n",
        "A[:,1:3]"
      ],
      "metadata": {
        "colab": {
          "base_uri": "https://localhost:8080/"
        },
        "id": "kbjNHAuoCYL7",
        "outputId": "0392e180-12be-4a51-d761-64627a59e747"
      },
      "execution_count": 109,
      "outputs": [
        {
          "output_type": "stream",
          "name": "stdout",
          "text": [
            "[[ -1  -5  -3]\n",
            " [ -6  -4  -3]\n",
            " [ -4   7  -3]\n",
            " [ -7   3   4]\n",
            " [ -3  -9 -10]]\n"
          ]
        },
        {
          "output_type": "execute_result",
          "data": {
            "text/plain": [
              "array([[ -5,  -3],\n",
              "       [ -4,  -3],\n",
              "       [  7,  -3],\n",
              "       [  3,   4],\n",
              "       [ -9, -10]])"
            ]
          },
          "metadata": {},
          "execution_count": 109
        }
      ]
    },
    {
      "cell_type": "markdown",
      "source": [
        "Exercise: rewrite the function SymmetryCheck code using arrays instead of lists."
      ],
      "metadata": {
        "id": "IFTX3FulDz26"
      }
    },
    {
      "cell_type": "code",
      "source": [
        "def symmetryCheck_arrays(A):\n",
        "    # your code here\n",
        "    r,c = A.shape\n",
        "    if r != c:\n",
        "        return 'not symmetric'\n",
        "    for row in range(r):\n",
        "      if any(A[row,:] != A[:,row]):\n",
        "        return 'not symmetric'\n",
        "    return 'symmetric'"
      ],
      "metadata": {
        "id": "vqBK8hjqEEkM"
      },
      "execution_count": 123,
      "outputs": []
    },
    {
      "cell_type": "code",
      "source": [
        "b = np.random.randint(-100, 100, size = (10, 10))\n",
        "test = (b + b.T)\n",
        "test1 = (symmetryCheck_arrays(test) == 'symmetric')\n",
        "b = np.random.randint(-100, 100, size = (10, 10))\n",
        "test2 = (symmetryCheck_arrays(b) == 'not symmetric')\n",
        "\n",
        "if test1 and test2:\n",
        "  print('Test cases passed!!!')\n",
        "else:\n",
        "  print('Oh no :(')"
      ],
      "metadata": {
        "colab": {
          "base_uri": "https://localhost:8080/"
        },
        "id": "LLtJ9Z_iEUYs",
        "outputId": "9289814a-ac73-4ba7-9acb-7350a9ee5820"
      },
      "execution_count": 124,
      "outputs": [
        {
          "output_type": "stream",
          "name": "stdout",
          "text": [
            "Test cases passed!!!\n"
          ]
        }
      ]
    },
    {
      "cell_type": "markdown",
      "source": [
        "One of the disclaimers with which we started talking about Numpy arrays was an efficiency boost, let's check!"
      ],
      "metadata": {
        "id": "iJSfCKTQFHro"
      }
    },
    {
      "cell_type": "code",
      "source": [
        "from binascii import b2a_hex\n",
        "import time\n",
        "# using lists\n",
        "b = np.random.randint(-100, 100, size = (1000, 1000))\n",
        "b1 = (b + b.T).tolist()\n",
        "b2 = np.random.randint(-100, 100, size = (1000, 1000)).tolist()\n",
        "\n",
        "start_time = time.time()\n",
        "\n",
        "test1 = (symmetryCheck(b1) == 'symmetric')\n",
        "test2 = (symmetryCheck(b2) == 'not symmetric')\n",
        "\n",
        "end_time_lists = time.time() - start_time\n",
        "\n",
        "\n",
        "# using arrays\n",
        "b = np.random.randint(-100, 100, size = (10, 10))\n",
        "b1 = (b + b.T)\n",
        "b2 = np.random.randint(-100, 100, size = (10, 10))\n",
        "\n",
        "start_time = time.time()\n",
        "test1 = (symmetryCheck_arrays(b1) == 'symmetric')\n",
        "test2 = (symmetryCheck_arrays(b2) == 'not symmetric')\n",
        "\n",
        "end_time_arrays = time.time() - start_time\n",
        "\n",
        "print(\"The execution time for symmetryCheck is \", end_time_lists)\n",
        "print(\"The execution time for symmetryCheck_arrays is \", end_time_arrays)"
      ],
      "metadata": {
        "colab": {
          "base_uri": "https://localhost:8080/"
        },
        "id": "i-DnauZjFTtw",
        "outputId": "2dca73ed-fb1b-4980-df5d-0be57992fffd"
      },
      "execution_count": 129,
      "outputs": [
        {
          "output_type": "stream",
          "name": "stdout",
          "text": [
            "The execution time for symmetryCheck is  0.124725341796875\n",
            "The execution time for symmetryCheck_arrays is  0.00014472007751464844\n"
          ]
        }
      ]
    },
    {
      "cell_type": "markdown",
      "source": [
        "## Some other useful functions\n",
        "\n",
        "1.   Using `np.array.reshape()` will give a new shape to an array without changing the data. Just remember that when you use the reshape method, the array you want to produce needs to have the same number of elements as the original array (use the attribute `size` to check!).\n",
        "2.   You can add, and sort elements of an array by using the functions `np.concatenate((a,b),axis=0)` and `np.sort(a)`\n",
        "\n"
      ],
      "metadata": {
        "id": "Af1O8CnaHCqq"
      }
    },
    {
      "cell_type": "code",
      "source": [
        "a = np.arange(6)\n",
        "b = np.arange(10,15,3)\n",
        "c = np.concatenate((b,a))\n",
        "#print(c)\n",
        "\n",
        "d = np.sort(c)\n",
        "#print(d)\n",
        "\n",
        "e = d[:4]\n",
        "#print(e)\n",
        "\n",
        "f = d[4:]\n",
        "#print(f)\n",
        "\n",
        "\n",
        "g = e.reshape((2,2))\n",
        "h = f.reshape((2,2))\n",
        "\n",
        "#print(g)\n",
        "#print(h)\n",
        "\n",
        "i = np.concatenate((g,h),axis=0)\n",
        "np.sort(i,axis=0)"
      ],
      "metadata": {
        "colab": {
          "base_uri": "https://localhost:8080/"
        },
        "id": "KiVCmpRvIWAK",
        "outputId": "83145cfe-5195-4eea-aac2-7b496f5b5f44"
      },
      "execution_count": 155,
      "outputs": [
        {
          "output_type": "execute_result",
          "data": {
            "text/plain": [
              "array([[ 0,  1],\n",
              "       [ 2,  3],\n",
              "       [ 4,  5],\n",
              "       [10, 13]])"
            ]
          },
          "metadata": {},
          "execution_count": 155
        }
      ]
    },
    {
      "cell_type": "markdown",
      "source": [
        "## Exercises\n",
        "\n",
        "1. Looking at the official Numpy documentation, write a function `my_linear_solver` for computing the solution of linear systems $Ax=b$ as $x=A^{-1}b$.\n",
        "2. Confront the solution with `np.linalg.solve()`. Which method is faster?\n"
      ],
      "metadata": {
        "id": "vbAsI--ANHCv"
      }
    },
    {
      "cell_type": "code",
      "source": [
        "def my_linear_solver(A,b):\n",
        "  # your code here\n",
        "  Am1 = np.linalg.inv(A)\n",
        "  x = np.matmul(Am1,b)\n",
        "  return x"
      ],
      "metadata": {
        "id": "1xkLkWK7QnKU"
      },
      "execution_count": 156,
      "outputs": []
    },
    {
      "cell_type": "code",
      "source": [
        "A = np.random.randint(-10,10,(1000,1000))\n",
        "b = np.random.randint(-10,10,(1000,1))\n",
        "\n",
        "start_time = time.time()\n",
        "my_solution = my_linear_solver(A,b)\n",
        "mytime = time.time() - start_time\n",
        "print(mytime)\n",
        "\n",
        "start_time = time.time()\n",
        "linalg_solution = np.linalg.solve(A,b)\n",
        "linalgtime = time.time() - start_time\n",
        "print(linalgtime)\n"
      ],
      "metadata": {
        "colab": {
          "base_uri": "https://localhost:8080/"
        },
        "id": "ijB1vujQRC_D",
        "outputId": "e6f49bff-dae5-4ec0-c9c5-a50b997dfb2f"
      },
      "execution_count": 173,
      "outputs": [
        {
          "output_type": "stream",
          "name": "stdout",
          "text": [
            "0.20962977409362793\n",
            "0.06490015983581543\n"
          ]
        }
      ]
    },
    {
      "cell_type": "markdown",
      "source": [
        "$$\\begin{cases}\n",
        "x+y+z=3\\\\\n",
        "x^2 + y^2 + z^2 = 5\\\\\n",
        "e^x + xy+xz = 1\n",
        "\\end{cases}\n",
        "$$\n",
        "\n",
        "solution $[0,2,1]$"
      ],
      "metadata": {
        "id": "d0x0KoC1Se8h"
      }
    },
    {
      "cell_type": "code",
      "source": [
        "def Newton_system(F, J, x0, tol):\n",
        "    F_value = F(x0)\n",
        "    F_norm = np.linalg.norm(F_value, ord=2)  # l2 norm of vector\n",
        "    iteration_counter = 0\n",
        "    while abs(F_norm) > tol and iteration_counter < 100:\n",
        "        delta = np.linalg.solve(J(x), -F_value)\n",
        "        x = x + delta\n",
        "        F_value = F(x)\n",
        "        F_norm = np.linalg.norm(F_value, ord=2)\n",
        "        iteration_counter += 1\n",
        "\n",
        "    # Here, either a solution is found, or too many iterations\n",
        "    if abs(F_norm) > tol:\n",
        "        iteration_counter = -1\n",
        "    return x, iteration_counter"
      ],
      "metadata": {
        "id": "NR41Z-6SSu97"
      },
      "execution_count": null,
      "outputs": []
    }
  ]
}
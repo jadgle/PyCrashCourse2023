{
  "nbformat": 4,
  "nbformat_minor": 0,
  "metadata": {
    "colab": {
      "provenance": []
    },
    "kernelspec": {
      "name": "python3",
      "display_name": "Python 3"
    },
    "language_info": {
      "name": "python"
    }
  },
  "cells": [
    {
      "cell_type": "markdown",
      "source": [
        "# Python Crash Course - Episode 1\n",
        "\n",
        "<!-- *In this episode we are going to learn...*\n",
        "- some differences between Python and other languages (as C or Java);\n",
        "- how to print a string;\n",
        "- different data types;\n",
        "- if, for and while loops. -->\n",
        "\n",
        "\n",
        "Python is a very intuitive language, and has a very straightforward syntax.\n",
        "\n",
        "\n",
        "\n",
        "\n",
        "\n",
        "\n",
        "\n"
      ],
      "metadata": {
        "id": "L6TNjPZKPgCN"
      }
    },
    {
      "cell_type": "code",
      "execution_count": null,
      "metadata": {
        "colab": {
          "base_uri": "https://localhost:8080/"
        },
        "id": "_OcatvDtPamu",
        "outputId": "348293b6-1499-4289-da16-dbb07a2c8847"
      },
      "outputs": [
        {
          "output_type": "stream",
          "name": "stdout",
          "text": [
            "Look how easy this is!\n"
          ]
        }
      ],
      "source": [
        "print(\"Look how easy this is!\")"
      ]
    },
    {
      "cell_type": "markdown",
      "source": [
        "1.   It uses indentation for blocks, instead of curly braces (as Java). Both tabs and spaces are supported, but the standard indentation requires the use of four spaces (1 tab).  \n",
        "2.   It is both a *strongly typed* and a *dynamically* typed language. This means that runtime objects always have a type and this matters when performing operations, but also that such type does not determine the variable itself.\n",
        "3.   Python has inbuilt dynamic memory allocation and deletion processes that enables efficient memory management."
      ],
      "metadata": {
        "id": "om3aiwJ5dEU6"
      }
    },
    {
      "cell_type": "code",
      "source": [
        "a = 1\n",
        "print(type(a))\n",
        "\n",
        "a = 1.0\n",
        "print(type(a))\n",
        "\n",
        "a = \"one\"\n",
        "print(type(a))\n",
        "\n",
        "a = True\n",
        "print(type(a))"
      ],
      "metadata": {
        "colab": {
          "base_uri": "https://localhost:8080/"
        },
        "id": "yiuNmuiedUdg",
        "outputId": "37df3685-937e-4a83-927f-d6f27cf502a3"
      },
      "execution_count": null,
      "outputs": [
        {
          "output_type": "stream",
          "name": "stdout",
          "text": [
            "<class 'int'>\n",
            "<class 'float'>\n",
            "<class 'str'>\n",
            "<class 'bool'>\n"
          ]
        }
      ]
    },
    {
      "cell_type": "code",
      "source": [
        "a = 2.2\n",
        "b = 5\n",
        "c = \"number\"\n",
        "\n",
        "print(\"We can sum numbers of different types: a + b =\", a+b)\n",
        "print(\"But not numbers and strings: c + a = ...\")\n",
        "c + a"
      ],
      "metadata": {
        "colab": {
          "base_uri": "https://localhost:8080/",
          "height": 245
        },
        "id": "wbjuzX7PtfOB",
        "outputId": "021b21b6-9463-4cba-d13c-42832fb7f39b"
      },
      "execution_count": null,
      "outputs": [
        {
          "output_type": "stream",
          "name": "stdout",
          "text": [
            "We can sum numbers of different types: a + b = 7.2\n",
            "But not numbers and strings: c + a = ...\n"
          ]
        },
        {
          "output_type": "error",
          "ename": "TypeError",
          "evalue": "ignored",
          "traceback": [
            "\u001b[0;31m---------------------------------------------------------------------------\u001b[0m",
            "\u001b[0;31mTypeError\u001b[0m                                 Traceback (most recent call last)",
            "\u001b[0;32m<ipython-input-12-ab8b7d346360>\u001b[0m in \u001b[0;36m<cell line: 7>\u001b[0;34m()\u001b[0m\n\u001b[1;32m      5\u001b[0m \u001b[0mprint\u001b[0m\u001b[0;34m(\u001b[0m\u001b[0;34m\"We can sum numbers of different types: a + b =\"\u001b[0m\u001b[0;34m,\u001b[0m \u001b[0ma\u001b[0m\u001b[0;34m+\u001b[0m\u001b[0mb\u001b[0m\u001b[0;34m)\u001b[0m\u001b[0;34m\u001b[0m\u001b[0;34m\u001b[0m\u001b[0m\n\u001b[1;32m      6\u001b[0m \u001b[0mprint\u001b[0m\u001b[0;34m(\u001b[0m\u001b[0;34m\"But not numbers and strings: c + a = ...\"\u001b[0m\u001b[0;34m)\u001b[0m\u001b[0;34m\u001b[0m\u001b[0;34m\u001b[0m\u001b[0m\n\u001b[0;32m----> 7\u001b[0;31m \u001b[0mc\u001b[0m \u001b[0;34m+\u001b[0m \u001b[0ma\u001b[0m\u001b[0;34m\u001b[0m\u001b[0;34m\u001b[0m\u001b[0m\n\u001b[0m",
            "\u001b[0;31mTypeError\u001b[0m: can only concatenate str (not \"float\") to str"
          ]
        }
      ]
    },
    {
      "cell_type": "markdown",
      "source": [
        "## Lists\n",
        "\n",
        "The first data structure we are going to introduce is the list. List elements are written within square brackets `[ ]`, and we can use the `len()` function to determine the length of the data structure. Square brackets are also used to access data, with the first element at index `0`."
      ],
      "metadata": {
        "id": "bgwLeKSf4Geu"
      }
    },
    {
      "cell_type": "code",
      "source": [
        "my_first_list = [\"muffins\", 1, 0.5] # it is possible to concatenate different data types in a list\n",
        "print(my_first_list)"
      ],
      "metadata": {
        "colab": {
          "base_uri": "https://localhost:8080/"
        },
        "id": "BADyLbsu5aNO",
        "outputId": "d466e4ac-3082-4be7-a2df-aae07ea79e50"
      },
      "execution_count": null,
      "outputs": [
        {
          "output_type": "stream",
          "name": "stdout",
          "text": [
            "['muffins', 1, 0.5]\n"
          ]
        }
      ]
    },
    {
      "cell_type": "markdown",
      "source": [
        "Assignment with an = on lists does not make a copy. Instead, assignment makes the two variables point to the one list in memory."
      ],
      "metadata": {
        "id": "GRg0y9Mg6Hgl"
      }
    },
    {
      "cell_type": "code",
      "source": [
        "# what does this mean?\n",
        "my_second_list = my_first_list\n",
        "my_second_list[1] = \"cookies\"\n",
        "\n",
        "my_first_list"
      ],
      "metadata": {
        "colab": {
          "base_uri": "https://localhost:8080/"
        },
        "id": "pVMc9UEV6A82",
        "outputId": "54d6fbfd-49ae-4071-9957-b7dde9372cc0"
      },
      "execution_count": null,
      "outputs": [
        {
          "output_type": "execute_result",
          "data": {
            "text/plain": [
              "['muffins', 'cookies', 0.5]"
            ]
          },
          "metadata": {},
          "execution_count": 17
        }
      ]
    },
    {
      "cell_type": "markdown",
      "source": [
        "Lists are objects, and we can act on them using methods from their class. Here are some common list methods. Many others can be found in the [official documentation](https://docs.python.org/3/tutorial/datastructures.html).\n",
        "\n",
        "* `list.append(elem)` -- adds a single element to the end of the list. Common error: does not return the new list, just\n",
        "modifies the original.\n",
        "* `list.insert(index, elem)` -- inserts the element at the given index, shifting the remaining elements to the right.\n",
        "* `list.index(elem)` -- searches for the given element from the start of the list and returns its index.\n",
        "* `list.remove(elem)` -- searches for the first instance of the given element and removes it.\n",
        "* `list.sort()` -- sorts the list in place (does not return it).\n",
        "* `list.reverse()` -- reverses the list in place (does not return it)\n"
      ],
      "metadata": {
        "id": "jBgDwqtc9WDC"
      }
    },
    {
      "cell_type": "code",
      "source": [
        "# defining an empty list\n",
        "mylist = []\n",
        "\n",
        "# adding some elements\n",
        "mylist.append(1)\n",
        "mylist.append(0)\n",
        "\n",
        "mylist2 = [-2,7,5,10]\n",
        "\n",
        "# concatenating lists\n",
        "mylist_new = mylist + mylist2\n",
        "print(mylist_new)\n",
        "\n",
        "#playing around\n",
        "mylist_new.sort()\n",
        "print(mylist_new)\n",
        "\n",
        "mylist_new.reverse()\n",
        "print(mylist_new)"
      ],
      "metadata": {
        "colab": {
          "base_uri": "https://localhost:8080/"
        },
        "id": "mBGwVbOj8Jwz",
        "outputId": "93fe14b4-6b79-4788-e07d-d64cb1d49909"
      },
      "execution_count": null,
      "outputs": [
        {
          "output_type": "stream",
          "name": "stdout",
          "text": [
            "[1, 0, -2, 7, 5, 10]\n",
            "[-2, 0, 1, 5, 7, 10]\n",
            "[10, 7, 5, 1, 0, -2]\n"
          ]
        }
      ]
    },
    {
      "cell_type": "markdown",
      "source": [
        "## The `for` and `in` constructs\n",
        "\n",
        "The construct `for var in list` is an easy way to look at each element in a list (or other iterable data structure). Here is an example of the syntax.\n",
        "\n"
      ],
      "metadata": {
        "id": "IF4efFHOtWNT"
      }
    },
    {
      "cell_type": "code",
      "source": [
        "squares = [1, 2, 3, 4]\n",
        "sum = 0\n",
        "for num in squares:\n",
        "  sum += num**2\n",
        "print(sum)"
      ],
      "metadata": {
        "colab": {
          "base_uri": "https://localhost:8080/"
        },
        "id": "u3XB7kuruQhP",
        "outputId": "7c92c39a-d127-48bd-8a9f-40ffb2409282"
      },
      "execution_count": null,
      "outputs": [
        {
          "output_type": "stream",
          "name": "stdout",
          "text": [
            "30\n"
          ]
        }
      ]
    },
    {
      "cell_type": "code",
      "source": [
        "# The range(n) function yields the numbers 0, 1, ... n-1,\n",
        "# and range(a, b) returns a, a+1, ... b-1\n",
        "# and range(a,b,c) returns a, a+c, a+2c, ... up to b-1 or the closest number\n",
        "# This can be used to construct a classic numeric for loop\n",
        "n = 10\n",
        "a = 4\n",
        "b = 19\n",
        "c = 3\n",
        "for i in range(a,b,c):\n",
        "  print(i)"
      ],
      "metadata": {
        "colab": {
          "base_uri": "https://localhost:8080/"
        },
        "id": "flmoBQSpH782",
        "outputId": "9543047e-571b-4d19-b51e-5d299481e812"
      },
      "execution_count": null,
      "outputs": [
        {
          "output_type": "stream",
          "name": "stdout",
          "text": [
            "4\n",
            "7\n",
            "10\n",
            "13\n",
            "16\n"
          ]
        }
      ]
    },
    {
      "cell_type": "markdown",
      "source": [
        "And here it comes the first exercise:\n",
        "\n",
        "1.   Write a for code for computing the $20^{th}$ number in the Fibonacci sequence. Print the result.\n",
        "2.   Modify your code to store the Fibonacci sequence in a list. Print the result.\n",
        "\n",
        "$$F_{0}=0,\\qquad F_{1}=1, \\qquad F_{n}=F_{n-1}+F_{n-2}$$"
      ],
      "metadata": {
        "id": "3qc8EsRmJrFC"
      }
    },
    {
      "cell_type": "code",
      "source": [
        "# your code here\n",
        "f0 = 0\n",
        "f1 = 1\n",
        "fibonacci = [f0, f1]\n",
        "\n",
        "for i in range(2,21):\n",
        "  f0, f1 =  f1, f0 + f1\n",
        "  #fibonacci.append(f1)\n",
        "\n",
        "#print(fibonacci)\n",
        "print(f1)"
      ],
      "metadata": {
        "colab": {
          "base_uri": "https://localhost:8080/"
        },
        "id": "nv6GikiZQFV_",
        "outputId": "5b49ddf3-a1ec-484e-90ff-5e3996b92791"
      },
      "execution_count": null,
      "outputs": [
        {
          "output_type": "stream",
          "name": "stdout",
          "text": [
            "6765\n"
          ]
        }
      ]
    },
    {
      "cell_type": "markdown",
      "source": [
        "## the `while` and `if` constructs\n",
        "The `in` construct can be used by itself to check if a variable appears in a list. Booleans can be used as conditions for `while` and if `constructs`. Here an example:"
      ],
      "metadata": {
        "id": "zqKWN1r-HP1E"
      }
    },
    {
      "cell_type": "code",
      "source": [
        "treats = [\"muffins\",\"cookies\",\"chocolate\"]\n",
        "\n",
        "favourite = \"pancakes\"\n",
        "\n",
        "print(\"Is favourite in the treats list? \", favourite in treats)"
      ],
      "metadata": {
        "colab": {
          "base_uri": "https://localhost:8080/"
        },
        "id": "xHOq5A8PHbQi",
        "outputId": "9a1334c0-5460-4437-914c-a49e794647e3"
      },
      "execution_count": null,
      "outputs": [
        {
          "output_type": "stream",
          "name": "stdout",
          "text": [
            "Is favourite in the treats list?  False\n"
          ]
        }
      ]
    },
    {
      "cell_type": "markdown",
      "source": [
        "Here is an example of the syntax for the `if` construct"
      ],
      "metadata": {
        "id": "_XV_g_TIc2m9"
      }
    },
    {
      "cell_type": "code",
      "source": [
        "BSc_at_ICL = False  # Have you done your BSc here at Imperial? If yes, change the variable to True\n",
        "\n",
        "if BSc_at_ICL:\n",
        "  print(\"Welcome to Imperial!\")\n",
        "else:\n",
        "  print(\"Welcome back :)\")\n"
      ],
      "metadata": {
        "colab": {
          "base_uri": "https://localhost:8080/"
        },
        "id": "JN12eu9Dc2Eu",
        "outputId": "280ef164-3caa-4016-ee8a-0b0e6c849098"
      },
      "execution_count": null,
      "outputs": [
        {
          "output_type": "stream",
          "name": "stdout",
          "text": [
            "Welcome back :)\n"
          ]
        }
      ]
    },
    {
      "cell_type": "markdown",
      "source": [
        "And an example for the `while` construct: the Newton's method for the equation\n",
        "$f(x) = 0$ for $f(x)=x^3+3x^2-2x-10$"
      ],
      "metadata": {
        "id": "setvrKN4dY8k"
      }
    },
    {
      "cell_type": "code",
      "source": [
        "x = 0 # initial guess\n",
        "update = 100\n",
        "tol = 1e-5\n",
        "\n",
        "while abs(update) > tol:\n",
        "\n",
        "  f  = x**3+3*x**2-2*x-10\n",
        "  df = 3*x**2+6*x-2\n",
        "\n",
        "  update = f/df\n",
        "  x = x - update\n",
        "\n",
        "print(x)"
      ],
      "metadata": {
        "colab": {
          "base_uri": "https://localhost:8080/"
        },
        "id": "hyXNHnZqTqcC",
        "outputId": "d102b9d0-3a66-43a5-8fcb-37f7ab50f122"
      },
      "execution_count": null,
      "outputs": [
        {
          "output_type": "stream",
          "name": "stdout",
          "text": [
            "1.6890953236376944\n"
          ]
        }
      ]
    },
    {
      "cell_type": "code",
      "source": [
        "# we can now define f and df as functions instead!\n",
        "\n",
        "def f(x):\n",
        "  return x**3+3*x**2-2*x- 10\n",
        "\n",
        "def df(x):\n",
        "  # your code here\n",
        "  return 3*x**2+6*x-2\n",
        "\n",
        "f(0)"
      ],
      "metadata": {
        "colab": {
          "base_uri": "https://localhost:8080/"
        },
        "id": "r-yuA73Wi-Cv",
        "outputId": "4bc4fc32-8576-49b4-f6e5-eb74bfa4def0"
      },
      "execution_count": null,
      "outputs": [
        {
          "output_type": "execute_result",
          "data": {
            "text/plain": [
              "-10"
            ]
          },
          "metadata": {},
          "execution_count": 4
        }
      ]
    },
    {
      "cell_type": "code",
      "source": [
        "# and why not, we can do the same for the Newton's method? let's also add a condition on the maximum number of iterations (condition1 and condition2)\n",
        "\n",
        "def Newton(x0,F,dF,tol,max_iteration):\n",
        "  # your code here\n",
        "  update = 100\n",
        "  x = x0\n",
        "  iteration = 1\n",
        "  while abs(update) > tol and iteration<max_iteration:\n",
        "    F = x**3+3*x**2-2*x-10\n",
        "    dF = 3*x**2+6*x-2\n",
        "    update = F/dF\n",
        "    x = x - update\n",
        "    iteration += 1\n",
        "  return x"
      ],
      "metadata": {
        "id": "t7rG0_7Gj4tO"
      },
      "execution_count": null,
      "outputs": []
    },
    {
      "cell_type": "code",
      "source": [
        "# and here we can evaluate the function\n",
        "solution = Newton(0,f,df,1e-10,1e3)\n",
        "\n",
        "# and then check the error:\n",
        "f(solution) # super teeny tiny!"
      ],
      "metadata": {
        "colab": {
          "base_uri": "https://localhost:8080/"
        },
        "id": "j6pLbuL2kB6v",
        "outputId": "f6ebc7e1-17c7-405e-a429-cf307c5d35fa"
      },
      "execution_count": null,
      "outputs": [
        {
          "output_type": "execute_result",
          "data": {
            "text/plain": [
              "1.7763568394002505e-15"
            ]
          },
          "metadata": {},
          "execution_count": 7
        }
      ]
    },
    {
      "cell_type": "markdown",
      "source": [
        "## Exercise on strings and lists\n",
        "\n",
        "Preliminaries: a string is a sequence of characters. You can access the elements using square brackets `[index]`.\n"
      ],
      "metadata": {
        "id": "V4eaZ55Gey2H"
      }
    },
    {
      "cell_type": "code",
      "source": [
        "# playing a bit around with indexes\n",
        "s = \"supercalifragilisticexpialidocious\"\n",
        "s[:20]\n"
      ],
      "metadata": {
        "colab": {
          "base_uri": "https://localhost:8080/",
          "height": 35
        },
        "id": "izGNKjn4eyG7",
        "outputId": "46fcfa20-e3a9-446e-89a5-db7ef1d6e7a2"
      },
      "execution_count": null,
      "outputs": [
        {
          "output_type": "execute_result",
          "data": {
            "text/plain": [
              "'supercalifragilistic'"
            ],
            "application/vnd.google.colaboratory.intrinsic+json": {
              "type": "string"
            }
          },
          "metadata": {},
          "execution_count": 53
        }
      ]
    },
    {
      "cell_type": "markdown",
      "source": [
        "Exercise: write a function that takes a list of strings and returns a list in which each element is a list of \"rhyming\" strings. For \"rhyming\" here we mean that the last 2 letters of the word should match.  \n",
        "\n",
        "[I know that this is hardly a rhyming rule, but bear with me.]\n",
        "\n",
        "\n",
        "Example:\n",
        "list = [\"cat\",\"sip\",\"trick\",\"mat\",\"lip\",\"stick\",\"trip\"]\n",
        "rhymator(mylist) =="
      ],
      "metadata": {
        "id": "7RFs77EjOtzY"
      }
    },
    {
      "cell_type": "code",
      "source": [
        "def rhymator(mylist):\n",
        "  #your code here\n",
        "  temp_list = mylist.copy()\n",
        "  rhymelist = []\n",
        "\n",
        "  while len(temp_list)>0: # leveraging on our temp list that we are going to reduce of every string we put in a rhyme group\n",
        "    key = temp_list[0][-2:] # rhyme key\n",
        "    rhyme_group = []   # (for now) empty rhyme group\n",
        "\n",
        "    for j in range(len(mylist)):\n",
        "      candidate = mylist[j]\n",
        "\n",
        "      if candidate[-2:]==key: # if the candidate shares the same key,\n",
        "        rhyme_group.append(candidate) # we add it to the rhyme group\n",
        "        temp_list.remove(candidate) # and we delete it from the temp list\n",
        "\n",
        "    rhymelist.append(rhyme_group)\n",
        "  return(rhymelist)"
      ],
      "metadata": {
        "id": "RQea-iFiPRNx"
      },
      "execution_count": null,
      "outputs": []
    },
    {
      "cell_type": "code",
      "source": [
        "mylist = [\"cat\",\"sip\",\"trick\",\"mat\",\"lip\",\"stick\",\"trip\",\"platypus\"]\n",
        "rhymator(mylist)"
      ],
      "metadata": {
        "colab": {
          "base_uri": "https://localhost:8080/"
        },
        "id": "KFFavgvHVboq",
        "outputId": "dc795479-8a8a-4b91-976a-b598c22a820a"
      },
      "execution_count": null,
      "outputs": [
        {
          "output_type": "execute_result",
          "data": {
            "text/plain": [
              "[['cat', 'mat'], ['sip', 'lip', 'trip'], ['trick', 'stick'], ['platypus']]"
            ]
          },
          "metadata": {},
          "execution_count": 75
        }
      ]
    },
    {
      "cell_type": "markdown",
      "source": [
        "## Exercise on prime numbers and list comprehensions\n",
        "\n",
        "Write and test a function called <code>my_primes</code> that takes as its argument a single <code>n</code>, which you can assume to be an integer greater than 1, and, using the sieve of Eratosthenes, returns a list of all the primes between 2 and <code>n</code> inclusive.\n",
        "\n",
        "\n",
        "1. Create a list of consecutive integers from 2 through n: (2, 3, 4, ..., n).\n",
        "2. Initially, let p equal 2, the smallest prime number.\n",
        "3. Enumerate the multiples of $p$ bigger or equal than $p^2$, by counting in increments of $p$ from $p^2$ to $n$, and mark them in the list.\n",
        "4. Find the smallest number in the list greater than $p$ that is not marked. If there was no such number, stop.  Otherwise, let $p$ now equal this new number (which is the next prime), and repeat from step 3.\n",
        "5. When the algorithm terminates, the numbers remaining not marked in the list are all the primes below $n$."
      ],
      "metadata": {
        "id": "RLBTVfNyZXp5"
      }
    },
    {
      "cell_type": "code",
      "source": [
        "# list comprehensions\n",
        "[\"platypus\" for i in range(1,10) if i%3==0]"
      ],
      "metadata": {
        "colab": {
          "base_uri": "https://localhost:8080/"
        },
        "id": "c1sJAVsJiqsH",
        "outputId": "6e33fd58-dd4f-467e-bf8c-16e17338e61f"
      },
      "execution_count": null,
      "outputs": [
        {
          "output_type": "execute_result",
          "data": {
            "text/plain": [
              "['platypus', 'platypus', 'platypus']"
            ]
          },
          "metadata": {},
          "execution_count": 45
        }
      ]
    },
    {
      "cell_type": "code",
      "source": [
        "def my_primes(n):\n",
        "    # your code here\n",
        "    isprime = [True for i in range(n+1)] # marking list\n",
        "    p = 2 # we start from 2, the smallest prime number\n",
        "    while(p**2 <= n) : # marking as from 3.\n",
        "      if (isprime[p] == True):\n",
        "        # Update all multiples of p\n",
        "        for i in range(p*p, n+1, p):\n",
        "          isprime[i] = False\n",
        "      p += 1\n",
        "\n",
        "    # now we can use the marking list to generate our output\n",
        "    primes = [p for p in range(2,n+1) if isprime[p]]\n",
        "    return primes\n",
        "\n",
        "# check\n",
        "my_primes(50)"
      ],
      "metadata": {
        "colab": {
          "base_uri": "https://localhost:8080/"
        },
        "id": "aofoyl3ObMK0",
        "outputId": "d7b47271-c7d0-4407-f1f5-9b7c6e00c427"
      },
      "execution_count": null,
      "outputs": [
        {
          "output_type": "execute_result",
          "data": {
            "text/plain": [
              "[2, 3, 5, 7, 11, 13, 17, 19, 23, 29, 31, 37, 41, 43, 47]"
            ]
          },
          "metadata": {},
          "execution_count": 36
        }
      ]
    }
  ]
}
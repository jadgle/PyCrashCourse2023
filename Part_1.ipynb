{
  "nbformat": 4,
  "nbformat_minor": 0,
  "metadata": {
    "colab": {
      "provenance": []
    },
    "kernelspec": {
      "name": "python3",
      "display_name": "Python 3"
    },
    "language_info": {
      "name": "python"
    }
  },
  "cells": [
    {
      "cell_type": "markdown",
      "source": [
        "# Python Crash Course - Episode 1\n",
        "\n",
        "<!-- *In this episode we are going to learn...*\n",
        "- some differences between Python and other languages (as C or Java);\n",
        "- how to print a string;\n",
        "- different data types;\n",
        "- if, for and while loops. -->\n",
        "\n",
        "\n",
        "Python is a very intuitive language, and has a very straightforward syntax.\n",
        "\n",
        "\n",
        "\n",
        "\n",
        "\n",
        "\n",
        "\n"
      ],
      "metadata": {
        "id": "L6TNjPZKPgCN"
      }
    },
    {
      "cell_type": "code",
      "execution_count": null,
      "metadata": {
        "colab": {
          "base_uri": "https://localhost:8080/"
        },
        "id": "_OcatvDtPamu",
        "outputId": "348293b6-1499-4289-da16-dbb07a2c8847"
      },
      "outputs": [
        {
          "output_type": "stream",
          "name": "stdout",
          "text": [
            "Look how easy this is!\n"
          ]
        }
      ],
      "source": [
        "print(\"Look how easy this is!\")"
      ]
    },
    {
      "cell_type": "markdown",
      "source": [
        "1.   It uses indentation for blocks, instead of curly braces (as Java). Both tabs and spaces are supported, but the standard indentation requires the use of four spaces (1 tab).  \n",
        "2.   It is both a *strongly typed* and a *dynamically* typed language. This means that runtime objects always have a type and this matters when performing operations, but also that such type does not determine the variable itself.\n",
        "3.   Python has inbuilt dynamic memory allocation and deletion processes that enables efficient memory management."
      ],
      "metadata": {
        "id": "om3aiwJ5dEU6"
      }
    },
    {
      "cell_type": "code",
      "source": [
        "a = 1\n",
        "print(type(a))\n"
      ],
      "metadata": {
        "id": "yiuNmuiedUdg"
      },
      "execution_count": null,
      "outputs": []
    },
    {
      "cell_type": "code",
      "source": [
        "a = 2.2\n",
        "b = 5\n",
        "c = \"number\"\n",
        "\n",
        "print(\"We can sum numbers of different types: a + b =\", a+b)\n",
        "print(\"But not numbers and strings: c + a = ...\")\n",
        "c + a"
      ],
      "metadata": {
        "id": "wbjuzX7PtfOB"
      },
      "execution_count": null,
      "outputs": []
    },
    {
      "cell_type": "markdown",
      "source": [
        "## Lists\n",
        "\n",
        "The first data structure we are going to introduce is the list. List elements are written within square brackets `[ ]`, and we can use the `len()` function to determine the length of the data structure. Square brackets are also used to access data, with the first element at index `0`."
      ],
      "metadata": {
        "id": "bgwLeKSf4Geu"
      }
    },
    {
      "cell_type": "code",
      "source": [
        "my_first_list = [\"muffins\", 1, 0.5] # it is possible to concatenate different data types in a list\n",
        "print(my_first_list)"
      ],
      "metadata": {
        "id": "BADyLbsu5aNO"
      },
      "execution_count": null,
      "outputs": []
    },
    {
      "cell_type": "markdown",
      "source": [
        "Assignment with an = on lists does not make a copy. Instead, assignment makes the two variables point to the one list in memory."
      ],
      "metadata": {
        "id": "GRg0y9Mg6Hgl"
      }
    },
    {
      "cell_type": "code",
      "source": [
        "# what does this mean?\n"
      ],
      "metadata": {
        "id": "pVMc9UEV6A82"
      },
      "execution_count": null,
      "outputs": []
    },
    {
      "cell_type": "markdown",
      "source": [
        "Lists are objects, and we can act on them using methods from their class. Here are some common list methods. Many others can be found in the [official documentation](https://docs.python.org/3/tutorial/datastructures.html).\n",
        "\n",
        "* `list.append(elem)` -- adds a single element to the end of the list. Common error: does not return the new list, just\n",
        "modifies the original.\n",
        "* `list.insert(index, elem)` -- inserts the element at the given index, shifting the remaining elements to the right.\n",
        "* `list.index(elem)` -- searches for the given element from the start of the list and returns its index.\n",
        "* `list.remove(elem)` -- searches for the first instance of the given element and removes it.\n",
        "* `list.sort()` -- sorts the list in place (does not return it).\n",
        "* `list.reverse()` -- reverses the list in place (does not return it)\n"
      ],
      "metadata": {
        "id": "jBgDwqtc9WDC"
      }
    },
    {
      "cell_type": "code",
      "source": [
        "# defining an empty list\n",
        "\n",
        "\n",
        "# adding some elements\n",
        "\n",
        "\n",
        "# concatenating lists\n",
        "\n",
        "\n",
        "#playing around\n",
        "\n",
        "\n"
      ],
      "metadata": {
        "id": "mBGwVbOj8Jwz"
      },
      "execution_count": null,
      "outputs": []
    },
    {
      "cell_type": "markdown",
      "source": [
        "## The `for` and `in` constructs\n",
        "\n",
        "The construct `for var in list` is an easy way to look at each element in a list (or other iterable data structure). Here is an example of the syntax.\n",
        "\n"
      ],
      "metadata": {
        "id": "IF4efFHOtWNT"
      }
    },
    {
      "cell_type": "code",
      "source": [
        "squares = [1, 2, 3, 4]\n",
        "sum = 0\n",
        "for num in squares:\n",
        "  sum += num**2\n",
        "print(sum)"
      ],
      "metadata": {
        "id": "u3XB7kuruQhP"
      },
      "execution_count": null,
      "outputs": []
    },
    {
      "cell_type": "code",
      "source": [
        "# The range(n) function yields the numbers 0, 1, ... n-1,\n",
        "# and range(a, b) returns a, a+1, ... b-1\n",
        "# and range(a,b,c) returns a, a+c, a+2c, ... up to b-1 or the closest number\n",
        "# This can be used to construct a classic numeric for loop\n"
      ],
      "metadata": {
        "id": "flmoBQSpH782"
      },
      "execution_count": null,
      "outputs": []
    },
    {
      "cell_type": "markdown",
      "source": [
        "And here it comes the first exercise:\n",
        "\n",
        "1.   Write a for code for computing the $20^{th}$ number in the Fibonacci sequence. Print the result.\n",
        "2.   Modify your code to store the Fibonacci sequence in a list. Print the result.\n",
        "\n",
        "$$F_{0}=0,\\qquad F_{1}=1, \\qquad F_{n}=F_{n-1}+F_{n-2}$$"
      ],
      "metadata": {
        "id": "3qc8EsRmJrFC"
      }
    },
    {
      "cell_type": "code",
      "source": [
        "# your code here\n"
      ],
      "metadata": {
        "id": "nv6GikiZQFV_"
      },
      "execution_count": null,
      "outputs": []
    },
    {
      "cell_type": "markdown",
      "source": [
        "## the `while` and `if` constructs\n",
        "The `in` construct can be used by itself to check if a variable appears in a list. Booleans can be used as conditions for `while` and if `constructs`. Here an example:"
      ],
      "metadata": {
        "id": "zqKWN1r-HP1E"
      }
    },
    {
      "cell_type": "code",
      "source": [
        "treats = [\"muffins\",\"cookies\",\"chocolate\"]\n",
        "\n",
        "favourite = \"pancakes\"\n",
        "\n",
        "print(\"Is favourite in the treats list? \", favourite in treats)"
      ],
      "metadata": {
        "colab": {
          "base_uri": "https://localhost:8080/"
        },
        "id": "xHOq5A8PHbQi",
        "outputId": "9a1334c0-5460-4437-914c-a49e794647e3"
      },
      "execution_count": null,
      "outputs": [
        {
          "output_type": "stream",
          "name": "stdout",
          "text": [
            "Is favourite in the treats list?  False\n"
          ]
        }
      ]
    },
    {
      "cell_type": "markdown",
      "source": [
        "Here is an example of the syntax for the `if` construct"
      ],
      "metadata": {
        "id": "_XV_g_TIc2m9"
      }
    },
    {
      "cell_type": "code",
      "source": [
        "BSc_at_ICL = False  # Have you done your BSc here at Imperial? If yes, change the variable to True\n",
        "\n",
        "if BSc_at_ICL:\n",
        "  print(\"Welcome to Imperial!\")\n",
        "else:\n",
        "  print(\"Welcome back :)\")\n"
      ],
      "metadata": {
        "colab": {
          "base_uri": "https://localhost:8080/"
        },
        "id": "JN12eu9Dc2Eu",
        "outputId": "280ef164-3caa-4016-ee8a-0b0e6c849098"
      },
      "execution_count": null,
      "outputs": [
        {
          "output_type": "stream",
          "name": "stdout",
          "text": [
            "Welcome back :)\n"
          ]
        }
      ]
    },
    {
      "cell_type": "markdown",
      "source": [
        "And an example for the `while` construct: the Newton's method for the equation\n",
        "$f(x) = 0$ for $f(x)=x^3+3x^2-2x-10$"
      ],
      "metadata": {
        "id": "setvrKN4dY8k"
      }
    },
    {
      "cell_type": "code",
      "source": [
        "x = 0 # initial guess\n",
        "update = 100\n",
        "tol = 1e-5\n",
        "\n",
        "while abs(update) > tol:\n",
        "\n",
        "  f  = x**3+3*x**2-2*x-10\n",
        "  df = 3*x**2+6*x-2\n",
        "\n",
        "  update = f/df\n",
        "  x = x - update\n",
        "\n",
        "print(x)"
      ],
      "metadata": {
        "id": "hyXNHnZqTqcC"
      },
      "execution_count": null,
      "outputs": []
    },
    {
      "cell_type": "code",
      "source": [
        "# we can now define f and df as functions instead!\n",
        "\n",
        "def f(x):\n",
        "  return x**3+3*x**2-2*x- 10\n",
        "\n",
        "def df(x):\n",
        "  # your code here\n"
      ],
      "metadata": {
        "id": "r-yuA73Wi-Cv"
      },
      "execution_count": null,
      "outputs": []
    },
    {
      "cell_type": "code",
      "source": [
        "# and why not, we can do the same for the Newton's method? let's also add a condition on the maximum number of iterations (condition1 and condition2)\n",
        "\n",
        "def Newton(x0,F,dF,tol,max_iteration):\n",
        "  # your code here\n"
      ],
      "metadata": {
        "id": "t7rG0_7Gj4tO"
      },
      "execution_count": null,
      "outputs": []
    },
    {
      "cell_type": "code",
      "source": [
        "# and here we can evaluate the function\n",
        "solution = Newton(0,f,df,1e-10,1e3)\n",
        "\n",
        "# and then check the error:\n",
        "f(solution) # it needs to be super teeny tiny!"
      ],
      "metadata": {
        "colab": {
          "base_uri": "https://localhost:8080/"
        },
        "id": "j6pLbuL2kB6v",
        "outputId": "f6ebc7e1-17c7-405e-a429-cf307c5d35fa"
      },
      "execution_count": null,
      "outputs": [
        {
          "output_type": "execute_result",
          "data": {
            "text/plain": [
              "1.7763568394002505e-15"
            ]
          },
          "metadata": {},
          "execution_count": 7
        }
      ]
    },
    {
      "cell_type": "markdown",
      "source": [
        "## Exercise on strings and lists\n",
        "\n",
        "Preliminaries: a string is a sequence of characters. You can access the elements using square brackets `[index]`.\n"
      ],
      "metadata": {
        "id": "V4eaZ55Gey2H"
      }
    },
    {
      "cell_type": "code",
      "source": [
        "# playing a bit around with indexes\n",
        "s = \"supercalifragilisticexpialidocious\"\n",
        "s[:]\n"
      ],
      "metadata": {
        "id": "izGNKjn4eyG7"
      },
      "execution_count": null,
      "outputs": []
    },
    {
      "cell_type": "markdown",
      "source": [
        "Exercise: write a function that takes a list of strings and returns a list in which each element is a list of \"rhyming\" strings. For \"rhyming\" here we mean that the last 2 letters of the word should match.  \n",
        "\n",
        "[I know that this is hardly a rhyming rule, but bear with me.]\n",
        "\n",
        "\n",
        "Example:\n",
        "list = [\"cat\",\"sip\",\"trick\",\"mat\",\"lip\",\"stick\",\"trip\"]\n",
        "rhymator(mylist) =="
      ],
      "metadata": {
        "id": "7RFs77EjOtzY"
      }
    },
    {
      "cell_type": "code",
      "source": [
        "def rhymator(mylist):\n",
        "  #your code here"
      ],
      "metadata": {
        "id": "RQea-iFiPRNx"
      },
      "execution_count": null,
      "outputs": []
    },
    {
      "cell_type": "code",
      "source": [
        "# running the code with a test list\n",
        "mylist = [\"cat\",\"sip\",\"trick\",\"mat\",\"lip\",\"stick\",\"trip\",\"platypus\"]\n",
        "rhymator(mylist)"
      ],
      "metadata": {
        "id": "KFFavgvHVboq"
      },
      "execution_count": null,
      "outputs": []
    },
    {
      "cell_type": "markdown",
      "source": [
        "## Exercise on prime numbers and list comprehensions\n",
        "\n",
        "Write and test a function called <code>my_primes</code> that takes as its argument a single <code>n</code>, which you can assume to be an integer greater than 1, and, using the sieve of Eratosthenes, returns a list of all the primes between 2 and <code>n</code> inclusive.\n",
        "\n",
        "\n",
        "1. Create a list of consecutive integers from 2 through n: (2, 3, 4, ..., n).\n",
        "2. Initially, let p equal 2, the smallest prime number.\n",
        "3. Enumerate the multiples of $p$ bigger or equal than $p^2$, by counting in increments of $p$ from $p^2$ to $n$, and mark them in the list.\n",
        "4. Find the smallest number in the list greater than $p$ that is not marked. If there was no such number, stop.  Otherwise, let $p$ now equal this new number (which is the next prime), and repeat from step 3.\n",
        "5. When the algorithm terminates, the numbers remaining not marked in the list are all the primes below $n$."
      ],
      "metadata": {
        "id": "RLBTVfNyZXp5"
      }
    },
    {
      "cell_type": "code",
      "source": [
        "# list comprehensions\n",
        "[\"platypus\" for i in range(1,10) if i%3==0]"
      ],
      "metadata": {
        "id": "c1sJAVsJiqsH"
      },
      "execution_count": null,
      "outputs": []
    },
    {
      "cell_type": "code",
      "source": [
        "def my_primes(n):\n",
        "    # your code here\n",
        "\n",
        "# test\n",
        "my_primes(50)"
      ],
      "metadata": {
        "id": "aofoyl3ObMK0"
      },
      "execution_count": null,
      "outputs": []
    }
  ]
}